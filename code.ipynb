{
 "cells": [
  {
   "cell_type": "code",
   "execution_count": 1,
   "metadata": {
    "slideshow": {
     "slide_type": "slide"
    }
   },
   "outputs": [],
   "source": [
    "# Created by Dr. Sangamesh Deepak R to teach Robotics online during covid 19 outbreak\n",
    "\n",
    "import sympy as sy\n",
    "import numpy as np\n",
    "sy.init_printing()"
   ]
  },
  {
   "cell_type": "code",
   "execution_count": 2,
   "metadata": {
    "slideshow": {
     "slide_type": "slide"
    }
   },
   "outputs": [],
   "source": [
    "# Link parameters\n",
    "a1 = 1\n",
    "a2 = 0\n",
    "a3 = sy.sqrt(2)\n",
    "\n",
    "alpha1 = 0\n",
    "alpha2 = sy.pi/4\n",
    "alpha3 = 0\n"
   ]
  },
  {
   "cell_type": "code",
   "execution_count": 3,
   "metadata": {
    "slideshow": {
     "slide_type": "slide"
    }
   },
   "outputs": [],
   "source": [
    "# Joint parameters\n",
    "\n",
    "theta1 = sy.Symbol(r'\\theta_1')\n",
    "theta2 = sy.Symbol(r'\\theta_2')\n",
    "theta3 = sy.Symbol(r'\\theta_3')\n",
    "theta4 = sy.Symbol(r'\\theta_4')\n",
    "\n",
    "d1 = 0\n",
    "d2 = 0\n",
    "d3 = sy.sqrt(2)\n",
    "d4 = 0\n"
   ]
  },
  {
   "cell_type": "code",
   "execution_count": 4,
   "metadata": {},
   "outputs": [
    {
     "data": {
      "image/png": "[encoded data removed]",
      "text/latex": [
       "$\\displaystyle \\left[ 34.567, \\  0.7853981633974483, \\  \\mu_k, \\  \\frac{\\pi}{4}\\right]$"
      ],
      "text/plain": [
       "⎡                                  π⎤\n",
       "⎢34.567, 0.7853981633974483, \\muₖ, ─⎥\n",
       "⎣                                  4⎦"
      ]
     },
     "execution_count": 4,
     "metadata": {},
     "output_type": "execute_result"
    }
   ],
   "source": [
    "temp1 = 34.567\n",
    "temp2 = np.pi/4\n",
    "temp3 = sy.Symbol(r'\\mu_k')\n",
    "temp4 = sy.pi/4\n",
    "[temp1, temp2, temp3, temp4]"
   ]
  },
  {
   "cell_type": "code",
   "execution_count": 5,
   "metadata": {},
   "outputs": [
    {
     "data": {
      "image/png": "[encoded data removed]",
      "text/latex": [
       "$\\displaystyle \\left[ \\mu_k^{2} + \\frac{\\pi \\mu_k}{2} + \\frac{\\pi^{2}}{16}, \\  \\mu_k^{2} + 1.5707963267949 \\mu_k + 0.616850275068085, \\  1249.79205590339\\right]$"
      ],
      "text/plain": [
       "⎡                  2                                                          \n",
       "⎢    2   π⋅\\muₖ   π       2                                                   \n",
       "⎢\\muₖ  + ────── + ──, \\muₖ  + 1.5707963267949⋅\\muₖ + 0.616850275068085, 1249.7\n",
       "⎣          2      16                                                          \n",
       "\n",
       "          ⎤\n",
       "          ⎥\n",
       "9205590339⎥\n",
       "          ⎦"
      ]
     },
     "execution_count": 5,
     "metadata": {},
     "output_type": "execute_result"
    }
   ],
   "source": [
    "temp5 = sy.expand((temp3+temp4)**2)\n",
    "temp6 = sy.expand((temp3+temp2)**2)\n",
    "temp7 = sy.expand((temp1+temp2)**2)\n",
    "[temp5, temp6, temp7]"
   ]
  },
  {
   "cell_type": "code",
   "execution_count": 6,
   "metadata": {},
   "outputs": [],
   "source": [
    "# transformation from of i' frame with respect to i frame\n",
    "\n",
    "def link_transform(a_i, alpha_i):\n",
    "    Link_T = sy.Matrix([[1, 0, 0, a_i], [0, sy.cos(alpha_i), -sy.sin(alpha_i), 0], [0, sy.sin(alpha_i), sy.cos(alpha_i), 0], \\\n",
    "                   [0,0,0,1] ])\n",
    "    return Link_T"
   ]
  },
  {
   "cell_type": "code",
   "execution_count": 7,
   "metadata": {},
   "outputs": [],
   "source": [
    "# transformation of i frame with respect to (i-1)' frame'\n",
    "def joint_transform(d_i, theta_i):\n",
    "    Joint_T = sy.Matrix([[sy.cos(theta_i),  -sy.sin(theta_i), 0, 0], \n",
    "                        [sy.sin(theta_i),  sy.cos(theta_i), 0, 0], \n",
    "                        [0, 0, 1, d_i],\n",
    "                        [0,0,0,1] ])\n",
    "    return Joint_T\n"
   ]
  },
  {
   "cell_type": "code",
   "execution_count": 8,
   "metadata": {},
   "outputs": [],
   "source": [
    "# Computation of transformation matricies of different link frames with respect to the ground frame\n",
    "T_0 = sy.Identity(4)\n",
    "T_0_1 = joint_transform(d1, theta1)\n",
    "\n",
    "\n",
    "T_1_2 = sy.trigsimp( link_transform(a1, alpha1)*joint_transform(d2, theta2) )\n",
    "T_0_2 = sy.trigsimp( T_0_1* T_1_2); \n",
    "\n",
    "T_2_3 = sy.trigsimp(link_transform(a2, alpha2)*joint_transform(d3, theta3) )\n",
    "T_0_3 = sy.trigsimp( T_0_2* T_2_3); \n",
    "\n",
    "T_3_4 = sy.trigsimp(link_transform(a3, alpha3)*joint_transform(d4, theta4) )\n",
    "T_0_4 = sy.trigsimp( T_0_3* T_3_4); \n"
   ]
  },
  {
   "cell_type": "code",
   "execution_count": 9,
   "metadata": {
    "scrolled": true
   },
   "outputs": [
    {
     "data": {
      "text/latex": [
       "$\\displaystyle \\left( \\left[\\begin{matrix}\\cos{\\left(\\theta_1 \\right)} & - \\sin{\\left(\\theta_1 \\right)} & 0 & 0\\\\\\sin{\\left(\\theta_1 \\right)} & \\cos{\\left(\\theta_1 \\right)} & 0 & 0\\\\0 & 0 & 1 & 0\\\\0 & 0 & 0 & 1\\end{matrix}\\right], \\  \\left[\\begin{matrix}\\cos{\\left(\\theta_1 + \\theta_2 \\right)} & - \\sin{\\left(\\theta_1 + \\theta_2 \\right)} & 0 & \\cos{\\left(\\theta_1 \\right)}\\\\\\sin{\\left(\\theta_1 + \\theta_2 \\right)} & \\cos{\\left(\\theta_1 + \\theta_2 \\right)} & 0 & \\sin{\\left(\\theta_1 \\right)}\\\\0 & 0 & 1 & 0\\\\0 & 0 & 0 & 1\\end{matrix}\\right], \\  \\left[\\begin{matrix}- \\frac{\\sqrt{2} \\sin{\\left(\\theta_3 \\right)} \\sin{\\left(\\theta_1 + \\theta_2 \\right)}}{2} + \\cos{\\left(\\theta_3 \\right)} \\cos{\\left(\\theta_1 + \\theta_2 \\right)} & - \\sin{\\left(\\theta_3 \\right)} \\cos{\\left(\\theta_1 + \\theta_2 \\right)} - \\frac{\\sqrt{2} \\sin{\\left(\\theta_1 + \\theta_2 \\right)} \\cos{\\left(\\theta_3 \\right)}}{2} & \\frac{\\sqrt{2} \\sin{\\left(\\theta_1 + \\theta_2 \\right)}}{2} & \\sin{\\left(\\theta_1 + \\theta_2 \\right)} + \\cos{\\left(\\theta_1 \\right)}\\\\\\frac{\\sqrt{2} \\sin{\\left(\\theta_3 \\right)} \\cos{\\left(\\theta_1 + \\theta_2 \\right)}}{2} + \\sin{\\left(\\theta_1 + \\theta_2 \\right)} \\cos{\\left(\\theta_3 \\right)} & - \\sin{\\left(\\theta_3 \\right)} \\sin{\\left(\\theta_1 + \\theta_2 \\right)} + \\frac{\\sqrt{2} \\cos{\\left(\\theta_3 \\right)} \\cos{\\left(\\theta_1 + \\theta_2 \\right)}}{2} & - \\frac{\\sqrt{2} \\cos{\\left(\\theta_1 + \\theta_2 \\right)}}{2} & \\sin{\\left(\\theta_1 \\right)} - \\cos{\\left(\\theta_1 + \\theta_2 \\right)}\\\\\\frac{\\sqrt{2} \\sin{\\left(\\theta_3 \\right)}}{2} & \\frac{\\sqrt{2} \\cos{\\left(\\theta_3 \\right)}}{2} & \\frac{\\sqrt{2}}{2} & 1\\\\0 & 0 & 0 & 1\\end{matrix}\\right], \\  \\left[\\begin{matrix}- \\frac{\\sqrt{2} \\sin{\\left(\\theta_1 + \\theta_2 \\right)} \\sin{\\left(\\theta_3 + \\theta_4 \\right)}}{2} + \\cos{\\left(\\theta_1 + \\theta_2 \\right)} \\cos{\\left(\\theta_3 + \\theta_4 \\right)} & - \\frac{\\sqrt{2} \\sin{\\left(\\theta_1 + \\theta_2 \\right)} \\cos{\\left(\\theta_3 + \\theta_4 \\right)}}{2} - \\sin{\\left(\\theta_3 + \\theta_4 \\right)} \\cos{\\left(\\theta_1 + \\theta_2 \\right)} & \\frac{\\sqrt{2} \\sin{\\left(\\theta_1 + \\theta_2 \\right)}}{2} & - \\sin{\\left(\\theta_3 \\right)} \\sin{\\left(\\theta_1 + \\theta_2 \\right)} + \\sin{\\left(\\theta_1 + \\theta_2 \\right)} + \\cos{\\left(\\theta_1 \\right)} + \\sqrt{2} \\cos{\\left(\\theta_3 \\right)} \\cos{\\left(\\theta_1 + \\theta_2 \\right)}\\\\\\sin{\\left(\\theta_1 + \\theta_2 \\right)} \\cos{\\left(\\theta_3 + \\theta_4 \\right)} + \\frac{\\sqrt{2} \\sin{\\left(\\theta_3 + \\theta_4 \\right)} \\cos{\\left(\\theta_1 + \\theta_2 \\right)}}{2} & - \\sin{\\left(\\theta_1 + \\theta_2 \\right)} \\sin{\\left(\\theta_3 + \\theta_4 \\right)} + \\frac{\\sqrt{2} \\cos{\\left(\\theta_1 + \\theta_2 \\right)} \\cos{\\left(\\theta_3 + \\theta_4 \\right)}}{2} & - \\frac{\\sqrt{2} \\cos{\\left(\\theta_1 + \\theta_2 \\right)}}{2} & \\sin{\\left(\\theta_1 \\right)} + \\sin{\\left(\\theta_3 \\right)} \\cos{\\left(\\theta_1 + \\theta_2 \\right)} + \\sqrt{2} \\sin{\\left(\\theta_1 + \\theta_2 \\right)} \\cos{\\left(\\theta_3 \\right)} - \\cos{\\left(\\theta_1 + \\theta_2 \\right)}\\\\\\frac{\\sqrt{2} \\sin{\\left(\\theta_3 + \\theta_4 \\right)}}{2} & \\frac{\\sqrt{2} \\cos{\\left(\\theta_3 + \\theta_4 \\right)}}{2} & \\frac{\\sqrt{2}}{2} & \\sin{\\left(\\theta_3 \\right)} + 1\\\\0 & 0 & 0 & 1\\end{matrix}\\right]\\right)$"
      ],
      "text/plain": [
       "⎛                                                                             \n",
       "⎜                                                                             \n",
       "⎜                                                                             \n",
       "⎜⎡cos(\\theta₁)  -sin(\\theta₁)  0  0⎤  ⎡cos(\\theta₁ + \\theta₂)  -sin(\\theta₁ + \n",
       "⎜⎢                                 ⎥  ⎢                                       \n",
       "⎜⎢sin(\\theta₁)  cos(\\theta₁)   0  0⎥  ⎢sin(\\theta₁ + \\theta₂)  cos(\\theta₁ + \\\n",
       "⎜⎢                                 ⎥, ⎢                                       \n",
       "⎜⎢     0              0        1  0⎥  ⎢          0                        0   \n",
       "⎜⎢                                 ⎥  ⎢                                       \n",
       "⎜⎣     0              0        0  1⎦  ⎣          0                        0   \n",
       "⎜                                                                             \n",
       "⎜                                                                             \n",
       "⎝                                                                             \n",
       "\n",
       "                            ⎡  √2⋅sin(\\theta₃)⋅sin(\\theta₁ + \\theta₂)         \n",
       "                            ⎢- ────────────────────────────────────── + cos(\\t\n",
       "                            ⎢                    2                            \n",
       "\\theta₂)  0  cos(\\theta₁)⎤  ⎢                                                 \n",
       "                         ⎥  ⎢ √2⋅sin(\\theta₃)⋅cos(\\theta₁ + \\theta₂)          \n",
       "theta₂)   0  sin(\\theta₁)⎥  ⎢ ────────────────────────────────────── + sin(\\th\n",
       "                         ⎥, ⎢                   2                             \n",
       "          1       0      ⎥  ⎢                                                 \n",
       "                         ⎥  ⎢                               √2⋅sin(\\theta₃)   \n",
       "          0       1      ⎦  ⎢                               ───────────────   \n",
       "                            ⎢                                      2          \n",
       "                            ⎢                                                 \n",
       "                            ⎣                                      0          \n",
       "\n",
       "                                                                      √2⋅sin(\\\n",
       "heta₃)⋅cos(\\theta₁ + \\theta₂)  -sin(\\theta₃)⋅cos(\\theta₁ + \\theta₂) - ────────\n",
       "                                                                              \n",
       "                                                                              \n",
       "                                                                      √2⋅cos(\\\n",
       "eta₁ + \\theta₂)⋅cos(\\theta₃)   -sin(\\theta₃)⋅sin(\\theta₁ + \\theta₂) + ────────\n",
       "                                                                              \n",
       "                                                                              \n",
       "                                                              √2⋅cos(\\theta₃) \n",
       "                                                              ─────────────── \n",
       "                                                                     2        \n",
       "                                                                              \n",
       "                                                                     0        \n",
       "\n",
       "theta₁ + \\theta₂)⋅cos(\\theta₃)   √2⋅sin(\\theta₁ + \\theta₂)                    \n",
       "──────────────────────────────   ─────────────────────────   sin(\\theta₁ + \\th\n",
       "          2                                  2                                \n",
       "                                                                              \n",
       "theta₃)⋅cos(\\theta₁ + \\theta₂)  -√2⋅cos(\\theta₁ + \\theta₂)                    \n",
       "──────────────────────────────  ───────────────────────────  sin(\\theta₁) - co\n",
       "          2                                  2                                \n",
       "                                                                              \n",
       "                                            √2                                \n",
       "                                            ──                                \n",
       "                                            2                                 \n",
       "                                                                              \n",
       "                                             0                                \n",
       "\n",
       "                    ⎤  ⎡  √2⋅sin(\\theta₁ + \\theta₂)⋅sin(\\theta₃ + \\theta₄)    \n",
       "eta₂) + cos(\\theta₁)⎥  ⎢- ──────────────────────────────────────────────── + c\n",
       "                    ⎥  ⎢                         2                            \n",
       "                    ⎥  ⎢                                                      \n",
       "                    ⎥  ⎢                                                 √2⋅si\n",
       "s(\\theta₁ + \\theta₂)⎥  ⎢ sin(\\theta₁ + \\theta₂)⋅cos(\\theta₃ + \\theta₄) + ─────\n",
       "                    ⎥, ⎢                                                      \n",
       "                    ⎥  ⎢                                                      \n",
       "                    ⎥  ⎢                                    √2⋅sin(\\theta₃ + \\\n",
       " 1                  ⎥  ⎢                                    ──────────────────\n",
       "                    ⎥  ⎢                                                2     \n",
       "                    ⎥  ⎢                                                      \n",
       " 1                  ⎦  ⎣                                                0     \n",
       "\n",
       "                                                √2⋅sin(\\theta₁ + \\theta₂)⋅cos(\n",
       "os(\\theta₁ + \\theta₂)⋅cos(\\theta₃ + \\theta₄)  - ──────────────────────────────\n",
       "                                                                       2      \n",
       "                                                                              \n",
       "n(\\theta₃ + \\theta₄)⋅cos(\\theta₁ + \\theta₂)                                   \n",
       "───────────────────────────────────────────   -sin(\\theta₁ + \\theta₂)⋅sin(\\the\n",
       "                  2                                                           \n",
       "                                                                              \n",
       "theta₄)                                                                       \n",
       "───────                                                                       \n",
       "                                                                              \n",
       "                                                                              \n",
       "                                                                              \n",
       "\n",
       "\\theta₃ + \\theta₄)                                                   √2⋅sin(\\t\n",
       "────────────────── - sin(\\theta₃ + \\theta₄)⋅cos(\\theta₁ + \\theta₂)   ─────────\n",
       "                                                                              \n",
       "                                                                              \n",
       "                 √2⋅cos(\\theta₁ + \\theta₂)⋅cos(\\theta₃ + \\theta₄)   -√2⋅cos(\\t\n",
       "ta₃ + \\theta₄) + ────────────────────────────────────────────────   ──────────\n",
       "                                        2                                     \n",
       "                                                                              \n",
       "    √2⋅cos(\\theta₃ + \\theta₄)                                                 \n",
       "    ─────────────────────────                                                 \n",
       "                2                                                             \n",
       "                                                                              \n",
       "                0                                                             \n",
       "\n",
       "heta₁ + \\theta₂)                                                              \n",
       "────────────────   -sin(\\theta₃)⋅sin(\\theta₁ + \\theta₂) + sin(\\theta₁ + \\theta\n",
       "   2                                                                          \n",
       "                                                                              \n",
       "heta₁ + \\theta₂)                                                              \n",
       "─────────────────  sin(\\theta₁) + sin(\\theta₃)⋅cos(\\theta₁ + \\theta₂) + √2⋅sin\n",
       "   2                                                                          \n",
       "                                                                              \n",
       "  √2                                                                          \n",
       "  ──                                                                 sin(\\thet\n",
       "  2                                                                           \n",
       "                                                                              \n",
       "   0                                                                         1\n",
       "\n",
       "                                                          ⎤⎞\n",
       "₂) + cos(\\theta₁) + √2⋅cos(\\theta₃)⋅cos(\\theta₁ + \\theta₂)⎥⎟\n",
       "                                                          ⎥⎟\n",
       "                                                          ⎥⎟\n",
       "                                                          ⎥⎟\n",
       "(\\theta₁ + \\theta₂)⋅cos(\\theta₃) - cos(\\theta₁ + \\theta₂) ⎥⎟\n",
       "                                                          ⎥⎟\n",
       "                                                          ⎥⎟\n",
       "                                                          ⎥⎟\n",
       "a₃) + 1                                                   ⎥⎟\n",
       "                                                          ⎥⎟\n",
       "                                                          ⎥⎟\n",
       "                                                          ⎦⎠"
      ]
     },
     "execution_count": 9,
     "metadata": {},
     "output_type": "execute_result"
    }
   ],
   "source": [
    "T_0_1, T_0_2, T_0_3, T_0_4 # Transformation matricies of first, second, third and fourth bodies"
   ]
  },
  {
   "cell_type": "code",
   "execution_count": 10,
   "metadata": {},
   "outputs": [
    {
     "data": {
      "image/png": "[encoded data removed]",
      "text/latex": [
       "$\\displaystyle \\sin{\\left(\\theta_3 \\right)} + 1$"
      ],
      "text/plain": [
       "sin(\\theta₃) + 1"
      ]
     },
     "execution_count": 10,
     "metadata": {},
     "output_type": "execute_result"
    }
   ],
   "source": [
    "T_0_4[2,3]   # (3,4)th element of trnasformation matrix for 4 frame"
   ]
  },
  {
   "cell_type": "code",
   "execution_count": 11,
   "metadata": {},
   "outputs": [],
   "source": [
    "# Extraction of Rotation matrices\n",
    "R_0_1= T_0_1[0:3,0:3]\n",
    "R_1_2= T_1_2[0:3,0:3]\n",
    "R_2_3= T_2_3[0:3,0:3]\n",
    "R_3_4= T_3_4[0:3,0:3]\n",
    "\n",
    "r_0_1=T_0_1[0:3,3]\n",
    "r_1_2=T_1_2[0:3,3]\n",
    "r_2_3=T_2_3[0:3,3]\n",
    "r_3_4=T_3_4[0:3,3]\n"
   ]
  },
  {
   "cell_type": "code",
   "execution_count": 12,
   "metadata": {},
   "outputs": [],
   "source": [
    " def cross_product(a,b):\n",
    "        c=sy.Matrix([\n",
    "            [a[1,0]*b[2,0]-a[2,0]*b[1,0]],\n",
    "            [a[2,0]*b[0,0]-a[0,0]*b[2,0]],\n",
    "            [a[0,0]*b[1,0]-a[1,0]*b[0,0]]\n",
    "            ])\n",
    "        return c"
   ]
  },
  {
   "cell_type": "code",
   "execution_count": 13,
   "metadata": {},
   "outputs": [
    {
     "data": {
      "text/latex": [
       "$\\displaystyle \\left[\\begin{matrix}0\\\\1\\\\0\\end{matrix}\\right]$"
      ],
      "text/plain": [
       "⎡0⎤\n",
       "⎢ ⎥\n",
       "⎢1⎥\n",
       "⎢ ⎥\n",
       "⎣0⎦"
      ]
     },
     "execution_count": 13,
     "metadata": {},
     "output_type": "execute_result"
    }
   ],
   "source": [
    "m=sy.Matrix([[0],[0],[1]])\n",
    "n=sy.Matrix([[1],[0],[0]])\n",
    "p = cross_product(m,n)\n",
    "p"
   ]
  },
  {
   "cell_type": "code",
   "execution_count": 14,
   "metadata": {},
   "outputs": [
    {
     "data": {
      "image/png": "[encoded data removed]",
      "text/latex": [
       "$\\displaystyle \\left( 0, \\  0, \\  0, \\  0, \\  \\dot{\\theta}_1, \\  \\dot{\\theta}_2, \\  \\dot{\\theta}_3, \\  \\dot{\\theta}_4\\right)$"
      ],
      "text/plain": [
       "(0, 0, 0, 0, \\dot{\\theta}₁, \\dot{\\theta}₂, \\dot{\\theta}₃, \\dot{\\theta}₄)"
      ]
     },
     "execution_count": 14,
     "metadata": {},
     "output_type": "execute_result"
    }
   ],
   "source": [
    "d_d1=0\n",
    "d_d2=0\n",
    "d_d3=0\n",
    "d_d4=0\n",
    " \n",
    "d_theta1 = sy.Symbol(r'\\dot{\\theta}_1')\n",
    "d_theta2 = sy.Symbol(r'\\dot{\\theta}_2')\n",
    "d_theta3 = sy.Symbol(r'\\dot{\\theta}_3')\n",
    "d_theta4 = sy.Symbol(r'\\dot{\\theta}_4')\n",
    "\n",
    "d_d1, d_d2, d_d3, d_d4, d_theta1, d_theta2, d_theta3, d_theta4 "
   ]
  },
  {
   "cell_type": "code",
   "execution_count": 15,
   "metadata": {},
   "outputs": [],
   "source": [
    "omega_0_0 = sy.Matrix([[0],[0],[0]])   \n",
    "v_0_0 = sy.Matrix([[0],[0],[0]])   \n"
   ]
  },
  {
   "cell_type": "code",
   "execution_count": 16,
   "metadata": {},
   "outputs": [
    {
     "data": {
      "text/latex": [
       "$\\displaystyle \\left( \\left[\\begin{matrix}0\\\\0\\\\\\dot{\\theta}_1\\end{matrix}\\right], \\  \\left[\\begin{matrix}0\\\\0\\\\0\\end{matrix}\\right]\\right)$"
      ],
      "text/plain": [
       "⎛⎡      0      ⎤  ⎡0⎤⎞\n",
       "⎜⎢             ⎥  ⎢ ⎥⎟\n",
       "⎜⎢      0      ⎥, ⎢0⎥⎟\n",
       "⎜⎢             ⎥  ⎢ ⎥⎟\n",
       "⎝⎣\\dot{\\theta}₁⎦  ⎣0⎦⎠"
      ]
     },
     "execution_count": 16,
     "metadata": {},
     "output_type": "execute_result"
    }
   ],
   "source": [
    "omega_1_1= R_0_1.T*(omega_0_0)+sy.Matrix([[0],[0],[d_theta1] ])\n",
    "\n",
    "v_1_1 = R_0_1.T*(v_0_0 + cross_product(omega_0_0,r_0_1))+sy.Matrix([[0],[0],[d_d1] ])\n",
    "\n",
    "omega_1_1, v_1_1"
   ]
  },
  {
   "cell_type": "code",
   "execution_count": 17,
   "metadata": {},
   "outputs": [
    {
     "data": {
      "text/latex": [
       "$\\displaystyle \\left( \\left[\\begin{matrix}0\\\\0\\\\\\dot{\\theta}_1 + \\dot{\\theta}_2\\end{matrix}\\right], \\  \\left[\\begin{matrix}\\dot{\\theta}_1 \\sin{\\left(\\theta_2 \\right)}\\\\\\dot{\\theta}_1 \\cos{\\left(\\theta_2 \\right)}\\\\0\\end{matrix}\\right]\\right)$"
      ],
      "text/plain": [
       "⎛⎡              0              ⎤  ⎡\\dot{\\theta}₁⋅sin(\\theta₂)⎤⎞\n",
       "⎜⎢                             ⎥  ⎢                          ⎥⎟\n",
       "⎜⎢              0              ⎥, ⎢\\dot{\\theta}₁⋅cos(\\theta₂)⎥⎟\n",
       "⎜⎢                             ⎥  ⎢                          ⎥⎟\n",
       "⎝⎣\\dot{\\theta}₁ + \\dot{\\theta}₂⎦  ⎣            0             ⎦⎠"
      ]
     },
     "execution_count": 17,
     "metadata": {},
     "output_type": "execute_result"
    }
   ],
   "source": [
    "omega_2_2= R_1_2.T*(omega_1_1)+sy.Matrix([[0],[0],[d_theta2] ])\n",
    "\n",
    "v_2_2 = R_1_2.T*(v_1_1 + cross_product(omega_1_1,r_1_2))+sy.Matrix([[0],[0],[d_d2] ])\n",
    "\n",
    "omega_2_2, v_2_2"
   ]
  },
  {
   "cell_type": "code",
   "execution_count": 18,
   "metadata": {},
   "outputs": [
    {
     "data": {
      "text/latex": [
       "$\\displaystyle \\left( \\left[\\begin{matrix}\\frac{\\sqrt{2} \\left(\\dot{\\theta}_1 + \\dot{\\theta}_2\\right) \\sin{\\left(\\theta_3 \\right)}}{2}\\\\\\frac{\\sqrt{2} \\left(\\dot{\\theta}_1 + \\dot{\\theta}_2\\right) \\cos{\\left(\\theta_3 \\right)}}{2}\\\\\\dot{\\theta}_3 + \\frac{\\sqrt{2} \\left(\\dot{\\theta}_1 + \\dot{\\theta}_2\\right)}{2}\\end{matrix}\\right], \\  \\left[\\begin{matrix}\\frac{\\sqrt{2} \\dot{\\theta}_1 \\sin{\\left(\\theta_3 \\right)} \\cos{\\left(\\theta_2 \\right)}}{2} + \\left(\\dot{\\theta}_1 \\sin{\\left(\\theta_2 \\right)} + \\dot{\\theta}_1 + \\dot{\\theta}_2\\right) \\cos{\\left(\\theta_3 \\right)}\\\\\\frac{\\sqrt{2} \\dot{\\theta}_1 \\cos{\\left(\\theta_2 \\right)} \\cos{\\left(\\theta_3 \\right)}}{2} - \\left(\\dot{\\theta}_1 \\sin{\\left(\\theta_2 \\right)} + \\dot{\\theta}_1 + \\dot{\\theta}_2\\right) \\sin{\\left(\\theta_3 \\right)}\\\\- \\frac{\\sqrt{2} \\dot{\\theta}_1 \\cos{\\left(\\theta_2 \\right)}}{2}\\end{matrix}\\right]\\right)$"
      ],
      "text/plain": [
       "⎛⎡ √2⋅(\\dot{\\theta}₁ + \\dot{\\theta}₂)⋅sin(\\theta₃)  ⎤  ⎡√2⋅\\dot{\\theta}₁⋅sin(\\\n",
       "⎜⎢ ───────────────────────────────────────────────  ⎥  ⎢──────────────────────\n",
       "⎜⎢                        2                         ⎥  ⎢                    2 \n",
       "⎜⎢                                                  ⎥  ⎢                      \n",
       "⎜⎢ √2⋅(\\dot{\\theta}₁ + \\dot{\\theta}₂)⋅cos(\\theta₃)  ⎥  ⎢√2⋅\\dot{\\theta}₁⋅cos(\\\n",
       "⎜⎢ ───────────────────────────────────────────────  ⎥, ⎢──────────────────────\n",
       "⎜⎢                        2                         ⎥  ⎢                    2 \n",
       "⎜⎢                                                  ⎥  ⎢                      \n",
       "⎜⎢                √2⋅(\\dot{\\theta}₁ + \\dot{\\theta}₂)⎥  ⎢                      \n",
       "⎜⎢\\dot{\\theta}₃ + ──────────────────────────────────⎥  ⎢                      \n",
       "⎝⎣                                2                 ⎦  ⎣                      \n",
       "\n",
       "theta₃)⋅cos(\\theta₂)                                                          \n",
       "──────────────────── + (\\dot{\\theta}₁⋅sin(\\theta₂) + \\dot{\\theta}₁ + \\dot{\\the\n",
       "                                                                              \n",
       "                                                                              \n",
       "theta₂)⋅cos(\\theta₃)                                                          \n",
       "──────────────────── - (\\dot{\\theta}₁⋅sin(\\theta₂) + \\dot{\\theta}₁ + \\dot{\\the\n",
       "                                                                              \n",
       "                                                                              \n",
       "                     -√2⋅\\dot{\\theta}₁⋅cos(\\theta₂)                           \n",
       "                     ───────────────────────────────                          \n",
       "                                    2                                         \n",
       "\n",
       "                  ⎤⎞\n",
       "ta}₂)⋅cos(\\theta₃)⎥⎟\n",
       "                  ⎥⎟\n",
       "                  ⎥⎟\n",
       "                  ⎥⎟\n",
       "ta}₂)⋅sin(\\theta₃)⎥⎟\n",
       "                  ⎥⎟\n",
       "                  ⎥⎟\n",
       "                  ⎥⎟\n",
       "                  ⎥⎟\n",
       "                  ⎦⎠"
      ]
     },
     "execution_count": 18,
     "metadata": {},
     "output_type": "execute_result"
    }
   ],
   "source": [
    "omega_3_3= R_2_3.T*(omega_2_2)+sy.Matrix([[0],[0],[d_theta3] ])\n",
    "\n",
    "v_3_3 = R_2_3.T*(v_2_2 + cross_product(omega_2_2,r_2_3))+sy.Matrix([[0],[0],[d_d3] ])\n",
    "\n",
    "omega_3_3, v_3_3"
   ]
  },
  {
   "cell_type": "code",
   "execution_count": 19,
   "metadata": {},
   "outputs": [
    {
     "data": {
      "text/latex": [
       "$\\displaystyle \\left( \\left[\\begin{matrix}\\frac{\\sqrt{2} \\left(\\dot{\\theta}_1 + \\dot{\\theta}_2\\right) \\sin{\\left(\\theta_3 \\right)} \\cos{\\left(\\theta_4 \\right)}}{2} + \\frac{\\sqrt{2} \\left(\\dot{\\theta}_1 + \\dot{\\theta}_2\\right) \\sin{\\left(\\theta_4 \\right)} \\cos{\\left(\\theta_3 \\right)}}{2}\\\\- \\frac{\\sqrt{2} \\left(\\dot{\\theta}_1 + \\dot{\\theta}_2\\right) \\sin{\\left(\\theta_3 \\right)} \\sin{\\left(\\theta_4 \\right)}}{2} + \\frac{\\sqrt{2} \\left(\\dot{\\theta}_1 + \\dot{\\theta}_2\\right) \\cos{\\left(\\theta_3 \\right)} \\cos{\\left(\\theta_4 \\right)}}{2}\\\\\\dot{\\theta}_3 + \\dot{\\theta}_4 + \\frac{\\sqrt{2} \\left(\\dot{\\theta}_1 + \\dot{\\theta}_2\\right)}{2}\\end{matrix}\\right], \\  \\left[\\begin{matrix}\\left(\\frac{\\sqrt{2} \\dot{\\theta}_1 \\sin{\\left(\\theta_3 \\right)} \\cos{\\left(\\theta_2 \\right)}}{2} + \\left(\\dot{\\theta}_1 \\sin{\\left(\\theta_2 \\right)} + \\dot{\\theta}_1 + \\dot{\\theta}_2\\right) \\cos{\\left(\\theta_3 \\right)}\\right) \\cos{\\left(\\theta_4 \\right)} + \\left(\\frac{\\sqrt{2} \\dot{\\theta}_1 \\cos{\\left(\\theta_2 \\right)} \\cos{\\left(\\theta_3 \\right)}}{2} + \\sqrt{2} \\left(\\dot{\\theta}_3 + \\frac{\\sqrt{2} \\left(\\dot{\\theta}_1 + \\dot{\\theta}_2\\right)}{2}\\right) - \\left(\\dot{\\theta}_1 \\sin{\\left(\\theta_2 \\right)} + \\dot{\\theta}_1 + \\dot{\\theta}_2\\right) \\sin{\\left(\\theta_3 \\right)}\\right) \\sin{\\left(\\theta_4 \\right)}\\\\- \\left(\\frac{\\sqrt{2} \\dot{\\theta}_1 \\sin{\\left(\\theta_3 \\right)} \\cos{\\left(\\theta_2 \\right)}}{2} + \\left(\\dot{\\theta}_1 \\sin{\\left(\\theta_2 \\right)} + \\dot{\\theta}_1 + \\dot{\\theta}_2\\right) \\cos{\\left(\\theta_3 \\right)}\\right) \\sin{\\left(\\theta_4 \\right)} + \\left(\\frac{\\sqrt{2} \\dot{\\theta}_1 \\cos{\\left(\\theta_2 \\right)} \\cos{\\left(\\theta_3 \\right)}}{2} + \\sqrt{2} \\left(\\dot{\\theta}_3 + \\frac{\\sqrt{2} \\left(\\dot{\\theta}_1 + \\dot{\\theta}_2\\right)}{2}\\right) - \\left(\\dot{\\theta}_1 \\sin{\\left(\\theta_2 \\right)} + \\dot{\\theta}_1 + \\dot{\\theta}_2\\right) \\sin{\\left(\\theta_3 \\right)}\\right) \\cos{\\left(\\theta_4 \\right)}\\\\- \\frac{\\sqrt{2} \\dot{\\theta}_1 \\cos{\\left(\\theta_2 \\right)}}{2} - \\left(\\dot{\\theta}_1 + \\dot{\\theta}_2\\right) \\cos{\\left(\\theta_3 \\right)}\\end{matrix}\\right]\\right)$"
      ],
      "text/plain": [
       "⎛⎡ √2⋅(\\dot{\\theta}₁ + \\dot{\\theta}₂)⋅sin(\\theta₃)⋅cos(\\theta₄)   √2⋅(\\dot{\\th\n",
       "⎜⎢ ──────────────────────────────────────────────────────────── + ────────────\n",
       "⎜⎢                              2                                             \n",
       "⎜⎢                                                                            \n",
       "⎜⎢  √2⋅(\\dot{\\theta}₁ + \\dot{\\theta}₂)⋅sin(\\theta₃)⋅sin(\\theta₄)   √2⋅(\\dot{\\t\n",
       "⎜⎢- ──────────────────────────────────────────────────────────── + ───────────\n",
       "⎜⎢                               2                                            \n",
       "⎜⎢                                                                            \n",
       "⎜⎢                                                             √2⋅(\\dot{\\theta\n",
       "⎜⎢                             \\dot{\\theta}₃ + \\dot{\\theta}₄ + ───────────────\n",
       "⎝⎣                                                                            \n",
       "\n",
       "eta}₁ + \\dot{\\theta}₂)⋅sin(\\theta₄)⋅cos(\\theta₃) ⎤  ⎡ ⎛√2⋅\\dot{\\theta}₁⋅sin(\\t\n",
       "──────────────────────────────────────────────── ⎥  ⎢ ⎜───────────────────────\n",
       "                 2                               ⎥  ⎢ ⎝                    2  \n",
       "                                                 ⎥  ⎢                         \n",
       "heta}₁ + \\dot{\\theta}₂)⋅cos(\\theta₃)⋅cos(\\theta₄)⎥  ⎢  ⎛√2⋅\\dot{\\theta}₁⋅sin(\\\n",
       "─────────────────────────────────────────────────⎥, ⎢- ⎜──────────────────────\n",
       "                  2                              ⎥  ⎢  ⎝                    2 \n",
       "                                                 ⎥  ⎢                         \n",
       "}₁ + \\dot{\\theta}₂)                              ⎥  ⎢                         \n",
       "───────────────────                              ⎥  ⎢                         \n",
       " 2                                               ⎦  ⎣                         \n",
       "\n",
       "heta₃)⋅cos(\\theta₂)                                                           \n",
       "─────────────────── + (\\dot{\\theta}₁⋅sin(\\theta₂) + \\dot{\\theta}₁ + \\dot{\\thet\n",
       "                                                                              \n",
       "                                                                              \n",
       "theta₃)⋅cos(\\theta₂)                                                          \n",
       "──────────────────── + (\\dot{\\theta}₁⋅sin(\\theta₂) + \\dot{\\theta}₁ + \\dot{\\the\n",
       "                                                                              \n",
       "                                                                              \n",
       "                                                                              \n",
       "                                                                              \n",
       "                                                                              \n",
       "\n",
       "                 ⎞                ⎛√2⋅\\dot{\\theta}₁⋅cos(\\theta₂)⋅cos(\\theta₃) \n",
       "a}₂)⋅cos(\\theta₃)⎟⋅cos(\\theta₄) + ⎜────────────────────────────────────────── \n",
       "                 ⎠                ⎝                    2                      \n",
       "                                                                              \n",
       "                  ⎞                ⎛√2⋅\\dot{\\theta}₁⋅cos(\\theta₂)⋅cos(\\theta₃)\n",
       "ta}₂)⋅cos(\\theta₃)⎟⋅sin(\\theta₄) + ⎜──────────────────────────────────────────\n",
       "                  ⎠                ⎝                    2                     \n",
       "                                                                              \n",
       "                        √2⋅\\dot{\\theta}₁⋅cos(\\theta₂)                         \n",
       "                      - ───────────────────────────── - (\\dot{\\theta}₁ + \\dot{\n",
       "                                      2                                       \n",
       "\n",
       "     ⎛                √2⋅(\\dot{\\theta}₁ + \\dot{\\theta}₂)⎞                     \n",
       "+ √2⋅⎜\\dot{\\theta}₃ + ──────────────────────────────────⎟ - (\\dot{\\theta}₁⋅sin\n",
       "     ⎝                                2                 ⎠                     \n",
       "                                                                              \n",
       "      ⎛                √2⋅(\\dot{\\theta}₁ + \\dot{\\theta}₂)⎞                    \n",
       " + √2⋅⎜\\dot{\\theta}₃ + ──────────────────────────────────⎟ - (\\dot{\\theta}₁⋅si\n",
       "      ⎝                                2                 ⎠                    \n",
       "                                                                              \n",
       "                                                                              \n",
       "\\theta}₂)⋅cos(\\theta₃)                                                        \n",
       "                                                                              \n",
       "\n",
       "                                                       ⎞              ⎤⎞\n",
       "(\\theta₂) + \\dot{\\theta}₁ + \\dot{\\theta}₂)⋅sin(\\theta₃)⎟⋅sin(\\theta₄) ⎥⎟\n",
       "                                                       ⎠              ⎥⎟\n",
       "                                                                      ⎥⎟\n",
       "                                                        ⎞             ⎥⎟\n",
       "n(\\theta₂) + \\dot{\\theta}₁ + \\dot{\\theta}₂)⋅sin(\\theta₃)⎟⋅cos(\\theta₄)⎥⎟\n",
       "                                                        ⎠             ⎥⎟\n",
       "                                                                      ⎥⎟\n",
       "                                                                      ⎥⎟\n",
       "                                                                      ⎥⎟\n",
       "                                                                      ⎦⎠"
      ]
     },
     "execution_count": 19,
     "metadata": {},
     "output_type": "execute_result"
    }
   ],
   "source": [
    "omega_4_4= R_3_4.T*(omega_3_3)+sy.Matrix([[0],[0],[d_theta4] ])\n",
    "\n",
    "v_4_4 = R_3_4.T*(v_3_3 + cross_product(omega_3_3,r_3_4))+sy.Matrix([[0],[0],[d_d4] ])\n",
    "\n",
    "omega_4_4, v_4_4"
   ]
  },
  {
   "cell_type": "code",
   "execution_count": 20,
   "metadata": {},
   "outputs": [],
   "source": [
    "R_0_4= T_0_4[0:3,0:3]\n",
    "#v_0_4=sy.trigsimp(R_0_4*v_4_4)   "
   ]
  },
  {
   "cell_type": "code",
   "execution_count": 21,
   "metadata": {},
   "outputs": [],
   "source": [
    "r_0_4=T_0_4[0:3,3]\n"
   ]
  },
  {
   "cell_type": "code",
   "execution_count": 22,
   "metadata": {},
   "outputs": [],
   "source": [
    "diff_v_4_4=R_0_4.T*sy.trigsimp(\n",
    "sy.diff(r_0_4, theta1)*d_theta1+\n",
    "sy.diff(r_0_4, theta2)*d_theta2+\n",
    "sy.diff(r_0_4, theta3)*d_theta3 +\n",
    "sy.diff(r_0_4, theta4)*d_theta4\n",
    "    )\n"
   ]
  },
  {
   "cell_type": "code",
   "execution_count": 24,
   "metadata": {},
   "outputs": [
    {
     "data": {
      "text/latex": [
       "$\\displaystyle \\left[\\begin{matrix}0\\\\0\\\\0\\end{matrix}\\right]$"
      ],
      "text/plain": [
       "⎡0⎤\n",
       "⎢ ⎥\n",
       "⎢0⎥\n",
       "⎢ ⎥\n",
       "⎣0⎦"
      ]
     },
     "execution_count": 24,
     "metadata": {},
     "output_type": "execute_result"
    }
   ],
   "source": [
    "sy.trigsimp(v_4_4-diff_v_4_4)   "
   ]
  },
  {
   "cell_type": "code",
   "execution_count": null,
   "metadata": {},
   "outputs": [],
   "source": []
  }
 ],
 "metadata": {
  "celltoolbar": "Slideshow",
  "kernelspec": {
   "display_name": "Python 3",
   "language": "python",
   "name": "python3"
  },
  "language_info": {
   "codemirror_mode": {
    "name": "ipython",
    "version": 3
   },
   "file_extension": ".py",
   "mimetype": "text/x-python",
   "name": "python",
   "nbconvert_exporter": "python",
   "pygments_lexer": "ipython3",
   "version": "3.7.4"
  }
 },
 "nbformat": 4,
 "nbformat_minor": 2
}
